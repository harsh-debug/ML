{
  "nbformat": 4,
  "nbformat_minor": 0,
  "metadata": {
    "colab": {
      "name": "ML_LAB1.ipynb",
      "provenance": [],
      "collapsed_sections": []
    },
    "kernelspec": {
      "name": "python3",
      "display_name": "Python 3"
    }
  },
  "cells": [
    {
      "cell_type": "markdown",
      "metadata": {
        "id": "_2UcPkSE83Ho",
        "colab_type": "text"
      },
      "source": [
        "**Name: Harsh Tank**\n",
        "---\n",
        "**Id : 201701460**\n",
        "\n",
        "**ML LAB-1**"
      ]
    },
    {
      "cell_type": "code",
      "metadata": {
        "id": "FAiCwHE-BwGF",
        "colab_type": "code",
        "colab": {}
      },
      "source": [
        "import numpy as np\n",
        "import numpy.linalg as la"
      ],
      "execution_count": 124,
      "outputs": []
    },
    {
      "cell_type": "markdown",
      "metadata": {
        "id": "pXBODH26YJOv",
        "colab_type": "text"
      },
      "source": [
        "**Question 1:**"
      ]
    },
    {
      "cell_type": "code",
      "metadata": {
        "id": "pKSVO9aCFX8b",
        "colab_type": "code",
        "colab": {
          "base_uri": "https://localhost:8080/",
          "height": 109
        },
        "outputId": "01039e57-5c21-42a8-84fc-171f51a7b49f"
      },
      "source": [
        "W = np.array([[8,5,1,5,6],[5,3,8,7,5],[1,8,10,7,8],[5,7,7,8,9],[6,5,8,9,7]])\n",
        "print(W)"
      ],
      "execution_count": 125,
      "outputs": [
        {
          "output_type": "stream",
          "text": [
            "[[ 8  5  1  5  6]\n",
            " [ 5  3  8  7  5]\n",
            " [ 1  8 10  7  8]\n",
            " [ 5  7  7  8  9]\n",
            " [ 6  5  8  9  7]]\n"
          ],
          "name": "stdout"
        }
      ]
    },
    {
      "cell_type": "code",
      "metadata": {
        "id": "OozQ2lI9GFI1",
        "colab_type": "code",
        "colab": {
          "base_uri": "https://localhost:8080/",
          "height": 35
        },
        "outputId": "dbe8fafd-7279-40f5-906d-9adff3b7a8d1"
      },
      "source": [
        "################ 1) What is the maximum eigenvalue of W ?\n",
        "\n",
        "eigvals, eigvecs = la.eig(W)\n",
        "#print(eigvals)\n",
        "print(max(eigvals))"
      ],
      "execution_count": 126,
      "outputs": [
        {
          "output_type": "stream",
          "text": [
            "32.275416286869884\n"
          ],
          "name": "stdout"
        }
      ]
    },
    {
      "cell_type": "code",
      "metadata": {
        "id": "kxkdkvm0IGRn",
        "colab_type": "code",
        "colab": {
          "base_uri": "https://localhost:8080/",
          "height": 35
        },
        "outputId": "77b73245-3055-4977-f48d-8d0ee216932f"
      },
      "source": [
        "############### 2) square root of maximum eigenvalue of W^2 \n",
        "\n",
        "W_2 = np.matmul(W,W)\n",
        "eigvals, eigvecs = la.eig(W_2)\n",
        "max_eig = max(eigvals)\n",
        "root_eig = np.sqrt(max_eig)\n",
        "print(root_eig)"
      ],
      "execution_count": 127,
      "outputs": [
        {
          "output_type": "stream",
          "text": [
            "32.275416286869856\n"
          ],
          "name": "stdout"
        }
      ]
    },
    {
      "cell_type": "code",
      "metadata": {
        "id": "ADomczv_L80W",
        "colab_type": "code",
        "colab": {
          "base_uri": "https://localhost:8080/",
          "height": 54
        },
        "outputId": "4fee8745-5376-4799-9ef9-111e0cf78fd5"
      },
      "source": [
        "############### 3) the maximum singular value of W\n",
        "\n",
        "wwt = W @ W.transpose()           # WW^T  same as W^2 since matrix W is symmetric\n",
        "#print(wwt)\n",
        "eigvals, eigvecs = la.eig(wwt)\n",
        "sigvals = np.sqrt(eigvals)\n",
        "print('Max Singular Value : ',max(sigvals))\n",
        "\n",
        "\n",
        "##### using svd method in numpy\n",
        "u, s, vh = np.linalg.svd(W, full_matrices=False)\n",
        "print(max(s))"
      ],
      "execution_count": 128,
      "outputs": [
        {
          "output_type": "stream",
          "text": [
            "Max Singular Value :  32.275416286869856\n",
            "32.27541628686985\n"
          ],
          "name": "stdout"
        }
      ]
    },
    {
      "cell_type": "code",
      "metadata": {
        "id": "kZzSnIEQMfQQ",
        "colab_type": "code",
        "colab": {
          "base_uri": "https://localhost:8080/",
          "height": 54
        },
        "outputId": "b3b1c63a-fafb-4e22-f9b8-b80059d96bcf"
      },
      "source": [
        "############## 4) Frobenius norm of the matrix\n",
        "\n",
        "W_T = W.transpose()\n",
        "a = np.matmul(W,W_T)\n",
        "frob_norm = np.sqrt(np.trace(a))\n",
        "print(\"Frobenius Norm = \",frob_norm)             ## Frobenius norm is sqrt(trace(A*A_transpose))\n",
        "\n",
        "###################\n",
        "FROB_norm = la.norm(W,'fro')\n",
        "print(FROB_norm)"
      ],
      "execution_count": 129,
      "outputs": [
        {
          "output_type": "stream",
          "text": [
            "Frobenius Norm =  33.52610922848042\n",
            "33.52610922848042\n"
          ],
          "name": "stdout"
        }
      ]
    },
    {
      "cell_type": "code",
      "metadata": {
        "id": "LfWfzh2RRYr2",
        "colab_type": "code",
        "colab": {
          "base_uri": "https://localhost:8080/",
          "height": 72
        },
        "outputId": "f8c68e6d-9738-4a50-ee7c-658372d69b96"
      },
      "source": [
        "############# 5) What is determinant of the matrix? What can you say about its rank?\n",
        "\n",
        "W_det = la.det(W)\n",
        "print(\"Determinant is \",W_det)\n",
        "print(\"Since determinant is non-zero, W will have FULL RANK i.e. Rank=min(m,n)=min(5,5)= 5\")\n",
        "\n",
        "print(\"Rank of W : \",np.linalg.matrix_rank(W))"
      ],
      "execution_count": 130,
      "outputs": [
        {
          "output_type": "stream",
          "text": [
            "Determinant is  564.9999999999987\n",
            "Since determinant is non-zero, W will have FULL RANK i.e. Rank=min(m,n)=min(5,5)= 5\n",
            "Rank of W :  5\n"
          ],
          "name": "stdout"
        }
      ]
    },
    {
      "cell_type": "code",
      "metadata": {
        "id": "3O22zDRlT6y7",
        "colab_type": "code",
        "colab": {
          "base_uri": "https://localhost:8080/",
          "height": 403
        },
        "outputId": "85865057-0199-4d8f-b303-fbb2f2960a2b"
      },
      "source": [
        "############## 6) eigendecomposition of the symmetric matrix and print the eigenvector matrix Q, and the\n",
        "##############    diagonal matrix Λ with eigenvalues. Verify that matrix W equals QΛQT\n",
        "\n",
        "eigvals, eigvecs = la.eig(W)\n",
        "print(\"Q = \\n\",eigvecs)\n",
        "Λ = np.diag(eigvals)\n",
        "print(\"\\nΛ (Diag of Eigenvals) = \\n\",Λ) \n",
        "Q=eigvecs\n",
        "print(\"\\nQ*Λ*Q_Traspose = \")\n",
        "print(Q@w_eig@Q.transpose())  \n",
        "print(\"Hence, Q*Λ*Q_Traspose = W\")"
      ],
      "execution_count": 131,
      "outputs": [
        {
          "output_type": "stream",
          "text": [
            "Q = \n",
            " [[-0.32686672 -0.78644991 -0.30823314 -0.41153047  0.10143812]\n",
            " [-0.39467476  0.04740538  0.68031453 -0.40169827 -0.46668534]\n",
            " [-0.49139203  0.60944275 -0.42781773 -0.40420933  0.20174294]\n",
            " [-0.50485227 -0.05022796 -0.3091631   0.59515818 -0.54111575]\n",
            " [-0.49096643 -0.07284208  0.40441889  0.38946466  0.66212433]]\n",
            "\n",
            "Λ (Diag of Eigenvals) = \n",
            " [[32.27541629  0.          0.          0.          0.        ]\n",
            " [ 0.          7.79874449  0.          0.          0.        ]\n",
            " [ 0.          0.         -4.50499151  0.          0.        ]\n",
            " [ 0.          0.          0.          0.95343025  0.        ]\n",
            " [ 0.          0.          0.          0.         -0.52259951]]\n",
            "\n",
            "Q*Λ*Q_Traspose = \n",
            "[[ 8.  5.  1.  5.  6.]\n",
            " [ 5.  3.  8.  7.  5.]\n",
            " [ 1.  8. 10.  7.  8.]\n",
            " [ 5.  7.  7.  8.  9.]\n",
            " [ 6.  5.  8.  9.  7.]]\n",
            "Hence, Q*Λ*Q_Traspose = W\n"
          ],
          "name": "stdout"
        }
      ]
    },
    {
      "cell_type": "markdown",
      "metadata": {
        "id": "TJmykvNJYRlm",
        "colab_type": "text"
      },
      "source": [
        "**Question 2:**"
      ]
    },
    {
      "cell_type": "code",
      "metadata": {
        "id": "hhKVNUQvYWo0",
        "colab_type": "code",
        "colab": {
          "base_uri": "https://localhost:8080/",
          "height": 403
        },
        "outputId": "6b9d95d8-b0d2-42e0-e0e6-07927634789a"
      },
      "source": [
        "############ 1) What is the value of ||y1||_2 ?\n",
        "\n",
        "y0 = np.array([[0, 1, 0, 0 ,0]])\n",
        "y0=y0.transpose()\n",
        "print(\"y0 = \\n\",y0)\n",
        "b = np.array([[1, 0, 0, 0 ,0]])\n",
        "b=b.transpose()\n",
        "print(\"b = \\n\",b)\n",
        "y1 = W@y0 + b\n",
        "print(\"y1 = \\n\",y1)\n",
        "\n",
        "y1_norm = la.norm(y1,2)\n",
        "print(\"1) L2 norm of y1 = \",round(y1_norm,4))\n",
        "\n",
        "############ 2) What is the value of ||y1||_2/||y0||_2 ?\n",
        "\n",
        "y0_norm = la.norm(y0,ord=2)\n",
        "print(\"L2 norm of y0 = \",round(y0_norm,4))\n",
        "\n",
        "ans = y1_norm/y0_norm\n",
        "print(\"2) ANS = \",round(ans,4))"
      ],
      "execution_count": 132,
      "outputs": [
        {
          "output_type": "stream",
          "text": [
            "y0 = \n",
            " [[0]\n",
            " [1]\n",
            " [0]\n",
            " [0]\n",
            " [0]]\n",
            "b = \n",
            " [[1]\n",
            " [0]\n",
            " [0]\n",
            " [0]\n",
            " [0]]\n",
            "y1 = \n",
            " [[6]\n",
            " [3]\n",
            " [8]\n",
            " [7]\n",
            " [5]]\n",
            "1) L2 norm of y1 =  13.5277\n",
            "L2 norm of y0 =  1.0\n",
            "2) ANS =  13.5277\n"
          ],
          "name": "stdout"
        }
      ]
    },
    {
      "cell_type": "markdown",
      "metadata": {
        "id": "b1aSfvO1cISl",
        "colab_type": "text"
      },
      "source": [
        "**Question 3:**"
      ]
    },
    {
      "cell_type": "markdown",
      "metadata": {
        "id": "4Zweba0Q37r2",
        "colab_type": "text"
      },
      "source": [
        "Consider the quadratic form f(x, y, z) = 3x^2 − 2y^2 + z^2 + 8xy − 5yz + xz.\n",
        "\n",
        "1. Find the symmetric matrix A corresponding to f\n",
        "2. How will you check the positive definiteness of the matrix? Is it positive definite, positive semidefinite,\n",
        "indefinite, negative definite, negative semidefinite?"
      ]
    },
    {
      "cell_type": "code",
      "metadata": {
        "id": "TvyYir5VcK0Q",
        "colab_type": "code",
        "colab": {
          "base_uri": "https://localhost:8080/",
          "height": 182
        },
        "outputId": "73892d74-54ed-44ae-bb12-8e2dbba78d8e"
      },
      "source": [
        "A = np.array([[3,4,1/2],[4,-2,-5/2],[1/2,-5/2,1]])\n",
        "print(\"Symmetric Matrix (A) = \\n\",A)\n",
        "eigvals,eigvecs = la.eig(A)\n",
        "print(\"Eigen Values = \",eigvals)\n",
        "\n",
        "print(\"One eigen value is -ve and 2 are +ve so INDEFINITE \")\n",
        "\n",
        "## if all eigen values are +ve -> +ve definite\n",
        "## if eigen values are +ve or zero -> +ve semidefinite\n",
        "## if all are negative -> -ve definite\n",
        "## if all are negative or zero -> -ve definite\n",
        "\n",
        "eigvals,eigvecs = la.eig(A)\n",
        "min_eig=min(eigvals)\n",
        "max_eig=max(eigvals)\n",
        "\n",
        "if (max_eig*min_eig < 0):\n",
        "    print(\"INDEFINITE\")\n",
        "elif (max_eig>0):\n",
        "  if (max_eig*min_eig == 0):\n",
        "    print(\"Positive Semidefinite\")\n",
        "  elif (max_eig*min_eig > 0):\n",
        "    print(\"Positive Definite\")\n",
        "else:  \n",
        "  if (max_eig == 0):\n",
        "    print(\"Negative Semidefinite\")\n",
        "  elif (max_eig < 0):\n",
        "    print(\"Negative Definite\")\n",
        "\n",
        "if (max_eig*min_eig < 0):\n",
        "    print(\"INDEFINITE\")\n",
        "elif (max_eig*min_eig == 0):\n",
        "  if (min_eig==0):\n",
        "    print(\"Positive Semidefinite\")\n",
        "  elif (max_eig==0):\n",
        "    print(\"Negative Semidefinite\")\n",
        "elif (max_eig*min_eig > 0):\n",
        "  if (max_eig>0):\n",
        "    print(\"Positive Definite\")\n",
        "  elif (max_eig<0):\n",
        "    print(\"Negative Definite\")\n",
        "\n",
        "val,vec = la.eig(A)\n",
        "a=min(val)\n",
        "b=max(val)\n",
        "if (b>0 and a<0):\n",
        "  print(\"Not Defined\")\n",
        "elif b>0 :\n",
        "  if (a>0):\n",
        "    print(\"positive Definite\")\n",
        "  elif a==0:\n",
        "    print(\"Positive semi definite\")\n",
        "elif (a<0):\n",
        "  if (b==0):\n",
        "    print(\"Negative semi Definite\")\n",
        "  elif (b<0):\n",
        "    print(\"Negative Definite\")\n"
      ],
      "execution_count": 137,
      "outputs": [
        {
          "output_type": "stream",
          "text": [
            "Symmetric Matrix (A) = \n",
            " [[ 3.   4.   0.5]\n",
            " [ 4.  -2.  -2.5]\n",
            " [ 0.5 -2.5  1. ]]\n",
            "Eigen Values =  [-5.18058822  5.37650268  1.80408554]\n",
            "One eigen value is -ve and 2 are +ve so INDEFINITE \n",
            "INDEFINITE\n",
            "INDEFINITE\n",
            "Not Defined\n"
          ],
          "name": "stdout"
        }
      ]
    },
    {
      "cell_type": "markdown",
      "metadata": {
        "id": "E9OPYCABcixx",
        "colab_type": "text"
      },
      "source": [
        "**Question 4:**\n",
        "1. What is the norm of vectors v and Av?\n",
        "2. Is the matrix A orthogonal?"
      ]
    },
    {
      "cell_type": "code",
      "metadata": {
        "id": "NltOL0__clp1",
        "colab_type": "code",
        "colab": {
          "base_uri": "https://localhost:8080/",
          "height": 164
        },
        "outputId": "84721d13-738a-42ed-bcc0-db611ebf66ec"
      },
      "source": [
        "A = (1/3)*np.array([[2,-2,1],[1,2,2],[2,1,-2]])\n",
        "v_T = np.array([[1,0,1]])\n",
        "v = v_T.transpose()\n",
        "\n",
        "print(\"1) Norm of v = \",la.norm(v))\n",
        "print(\"Norm of Av = \",la.norm(A@v))\n",
        "\n",
        "print(\"2) A is orthogonal since product of A and its transpose gives Identity Matrix.\")\n",
        "print(\"\\nA*A^T = \\n\",A@A.transpose())\n",
        "\n",
        "# A is orthogonal and hence Av mutliplication does not changes norm of v\n"
      ],
      "execution_count": 134,
      "outputs": [
        {
          "output_type": "stream",
          "text": [
            "1) Norm of v =  1.4142135623730951\n",
            "Norm of Av =  1.4142135623730951\n",
            "2) A is orthogonal since product of A and its transpose gives Identity Matrix.\n",
            "\n",
            "A*A^T = \n",
            " [[1.00000000e+00 1.54197642e-17 1.23358114e-17]\n",
            " [1.54197642e-17 1.00000000e+00 2.46716228e-17]\n",
            " [1.23358114e-17 2.46716228e-17 1.00000000e+00]]\n"
          ],
          "name": "stdout"
        }
      ]
    }
  ]
}