{
  "nbformat": 4,
  "nbformat_minor": 0,
  "metadata": {
    "colab": {
      "name": "201701460_ML_LAB4.ipynb",
      "provenance": [],
      "collapsed_sections": []
    },
    "kernelspec": {
      "name": "python3",
      "display_name": "Python 3"
    }
  },
  "cells": [
    {
      "cell_type": "code",
      "metadata": {
        "id": "Ool6zIn9SfHj"
      },
      "source": [
        "import numpy as np\n",
        "import pandas as pd\n",
        "from sklearn.linear_model import LinearRegression\n",
        "import matplotlib.pyplot as plt"
      ],
      "execution_count": 10,
      "outputs": []
    },
    {
      "cell_type": "markdown",
      "metadata": {
        "id": "otsWBkSogxRe"
      },
      "source": [
        "#**Univariate**"
      ]
    },
    {
      "cell_type": "code",
      "metadata": {
        "id": "K9t-9sVuhCY2",
        "outputId": "016e4b1c-88f4-4b1b-dfe7-1778f3e0c783",
        "colab": {
          "base_uri": "https://localhost:8080/",
          "height": 206
        }
      },
      "source": [
        "dataset = pd.read_csv(\"salary_data.csv\")\n",
        "dataset.head()"
      ],
      "execution_count": 2,
      "outputs": [
        {
          "output_type": "execute_result",
          "data": {
            "text/html": [
              "<div>\n",
              "<style scoped>\n",
              "    .dataframe tbody tr th:only-of-type {\n",
              "        vertical-align: middle;\n",
              "    }\n",
              "\n",
              "    .dataframe tbody tr th {\n",
              "        vertical-align: top;\n",
              "    }\n",
              "\n",
              "    .dataframe thead th {\n",
              "        text-align: right;\n",
              "    }\n",
              "</style>\n",
              "<table border=\"1\" class=\"dataframe\">\n",
              "  <thead>\n",
              "    <tr style=\"text-align: right;\">\n",
              "      <th></th>\n",
              "      <th>YearsExperience</th>\n",
              "      <th>Salary</th>\n",
              "    </tr>\n",
              "  </thead>\n",
              "  <tbody>\n",
              "    <tr>\n",
              "      <th>0</th>\n",
              "      <td>1.1</td>\n",
              "      <td>39343</td>\n",
              "    </tr>\n",
              "    <tr>\n",
              "      <th>1</th>\n",
              "      <td>1.3</td>\n",
              "      <td>46205</td>\n",
              "    </tr>\n",
              "    <tr>\n",
              "      <th>2</th>\n",
              "      <td>1.5</td>\n",
              "      <td>37731</td>\n",
              "    </tr>\n",
              "    <tr>\n",
              "      <th>3</th>\n",
              "      <td>2.0</td>\n",
              "      <td>43525</td>\n",
              "    </tr>\n",
              "    <tr>\n",
              "      <th>4</th>\n",
              "      <td>2.2</td>\n",
              "      <td>39891</td>\n",
              "    </tr>\n",
              "  </tbody>\n",
              "</table>\n",
              "</div>"
            ],
            "text/plain": [
              "   YearsExperience  Salary\n",
              "0              1.1   39343\n",
              "1              1.3   46205\n",
              "2              1.5   37731\n",
              "3              2.0   43525\n",
              "4              2.2   39891"
            ]
          },
          "metadata": {
            "tags": []
          },
          "execution_count": 2
        }
      ]
    },
    {
      "cell_type": "markdown",
      "metadata": {
        "id": "C7nplW8AWNGk"
      },
      "source": [
        "##Using Inbuilt functions"
      ]
    },
    {
      "cell_type": "code",
      "metadata": {
        "id": "-dPH6O16hGLy",
        "outputId": "4bec8b9d-9af3-4573-97c4-cdc2831dc915",
        "colab": {
          "base_uri": "https://localhost:8080/",
          "height": 54
        }
      },
      "source": [
        "X = dataset.iloc[:, :-1].values\n",
        "Y = dataset.iloc[:, 1].values\n",
        "regressor = LinearRegression(fit_intercept=True)\n",
        "regressor.fit(X, Y)\n",
        "# print(regressor.predict(X))\n",
        "print(\"w0 = \",regressor.intercept_)\n",
        "print(\"w1 = \",regressor.coef_[0])"
      ],
      "execution_count": 52,
      "outputs": [
        {
          "output_type": "stream",
          "text": [
            "w0 =  25792.200198668696\n",
            "w1 =  9449.962321455076\n"
          ],
          "name": "stdout"
        }
      ]
    },
    {
      "cell_type": "markdown",
      "metadata": {
        "id": "rDOlyvsuWUMn"
      },
      "source": [
        "##Using Closed form"
      ]
    },
    {
      "cell_type": "code",
      "metadata": {
        "id": "jU-dXSV-jLXc",
        "outputId": "787241fd-c731-4053-d033-3471313824c4",
        "colab": {
          "base_uri": "https://localhost:8080/",
          "height": 54
        }
      },
      "source": [
        "def closed_form(X,Y):\n",
        "  weight_predicted = np.linalg.inv(np.matmul(X.transpose(),X)) @ X.transpose() @ Y\n",
        "  y_predicted = X @ weight_predicted\n",
        "  return weight_predicted, y_predicted\n",
        "\n",
        "X = dataset.iloc[:, :-1].values\n",
        "Y = dataset.iloc[:, 1].values\n",
        "\n",
        "X = np.concatenate((X,np.ones((X.shape[0],1))),axis=1)\n",
        "weight_predicted, y_predicted = closed_form(X,Y)\n",
        "#print(X.shape)\n",
        "print(\"w0 = \",weight_predicted[1])\n",
        "print(\"w1 = \",weight_predicted[0])\n"
      ],
      "execution_count": 67,
      "outputs": [
        {
          "output_type": "stream",
          "text": [
            "w0 =  25792.200198668677\n",
            "w1 =  9449.962321455096\n"
          ],
          "name": "stdout"
        }
      ]
    },
    {
      "cell_type": "markdown",
      "metadata": {
        "id": "4TB5hZfvWbCC"
      },
      "source": [
        "##Using Least Square Error"
      ]
    },
    {
      "cell_type": "code",
      "metadata": {
        "id": "okqNE9nMiIhM",
        "outputId": "2e04990c-2710-415f-ab59-86a3df4fda17",
        "colab": {
          "base_uri": "https://localhost:8080/",
          "height": 575
        }
      },
      "source": [
        "x = (dataset.iloc[:,0].values).reshape(-1,1)\n",
        "y = (dataset.iloc[:,1].values).reshape(-1,1)\n",
        "plt.scatter(x,y,label='Ground truth salary')\n",
        "n = len(x)\n",
        "\n",
        "def Loss_function(x,y,w0,w1,n):\n",
        "  y_predicted=w1*x+w0\n",
        "  err=sum((y-y_predicted)**2)/(2*n)\n",
        "  return err\n",
        "  \n",
        "epoch =10000\n",
        "w = np.array([0.0, 0.0]).reshape(-1,1)\n",
        "err=[]\n",
        "alpha=0.01\n",
        "\n",
        "for i in range(epoch):\n",
        "  err.append(Loss_function(x,y,w[0],w[1],n))\n",
        "  dw0 = sum((-2/n)*(y-((w[1]*x)+w[0])))\n",
        "  dw1 = sum((-2/n)*x*(y-((w[1]*x)+w[0])))\n",
        "  w[1]=w[1]-(alpha*dw1)\n",
        "  w[0]=w[0]-(alpha*dw0)\n",
        "\n",
        "y_predicted = w[0] + w[1]*x \n",
        "#print(y_predicted)\n",
        "plt.plot(x,y_predicted,'r',linewidth=2,label='Predicted Salary (Hypothesis)')\n",
        "plt.legend()\n",
        "plt.show()\n",
        "plt.scatter([range(epoch)],err,label=\"Error\")\n",
        "plt.xlabel('Epochs(Iterations)')\n",
        "plt.ylabel('Error in prediction')\n",
        "plt.legend()\n",
        "plt.show()\n",
        "\n",
        "print(\"w0 = \",w[0])\n",
        "print(\"w1 = \",w[1])"
      ],
      "execution_count": 64,
      "outputs": [
        {
          "output_type": "display_data",
          "data": {
            "image/png": "[encoded data removed]",
            "text/plain": [
              "<Figure size 432x288 with 1 Axes>"
            ]
          },
          "metadata": {
            "tags": [],
            "needs_background": "light"
          }
        },
        {
          "output_type": "display_data",
          "data": {
            "image/png": "[encoded data removed]",
            "text/plain": [
              "<Figure size 432x288 with 1 Axes>"
            ]
          },
          "metadata": {
            "tags": [],
            "needs_background": "light"
          }
        },
        {
          "output_type": "stream",
          "text": [
            "w0 =  [25792.20019867]\n",
            "w1 =  [9449.96232146]\n"
          ],
          "name": "stdout"
        }
      ]
    },
    {
      "cell_type": "markdown",
      "metadata": {
        "id": "66wqrZSvUcoM"
      },
      "source": [
        "###**Question 3:**"
      ]
    },
    {
      "cell_type": "markdown",
      "metadata": {
        "id": "rQg0h_34QWZ8"
      },
      "source": [
        "####**Linear Regression using Maximum Likelihood Estimation**"
      ]
    },
    {
      "cell_type": "code",
      "metadata": {
        "id": "g8J6cVjiyngp"
      },
      "source": [
        "X = np.array(dataset.iloc[:,0].values.reshape(-1,1))\n",
        "Y = np.array(dataset.iloc[:,1].values.reshape(-1,1))\n",
        "\n",
        "w1 = np.sum((X-np.mean(X))* (Y-np.mean(Y)))/np.sum((X-np.mean(X))**2)\n",
        "w0 = np.mean(Y)-w1*np.mean(X) \n",
        "\n",
        "print(\"w0 = \",w0)\n",
        "print(\"w1 = \",w1)"
      ],
      "execution_count": null,
      "outputs": []
    },
    {
      "cell_type": "markdown",
      "metadata": {
        "id": "Bcu08nnDhxug"
      },
      "source": [
        "#**Multivariate**"
      ]
    },
    {
      "cell_type": "code",
      "metadata": {
        "id": "OvGofW32bChB",
        "outputId": "3163bdfb-9147-412d-87a7-f88f1c028ff9",
        "colab": {
          "base_uri": "https://localhost:8080/",
          "height": 206
        }
      },
      "source": [
        "dataset2 = pd.read_csv(\"stats_females.csv\")\n",
        "dataset2.head()"
      ],
      "execution_count": 107,
      "outputs": [
        {
          "output_type": "execute_result",
          "data": {
            "text/html": [
              "<div>\n",
              "<style scoped>\n",
              "    .dataframe tbody tr th:only-of-type {\n",
              "        vertical-align: middle;\n",
              "    }\n",
              "\n",
              "    .dataframe tbody tr th {\n",
              "        vertical-align: top;\n",
              "    }\n",
              "\n",
              "    .dataframe thead th {\n",
              "        text-align: right;\n",
              "    }\n",
              "</style>\n",
              "<table border=\"1\" class=\"dataframe\">\n",
              "  <thead>\n",
              "    <tr style=\"text-align: right;\">\n",
              "      <th></th>\n",
              "      <th>Height</th>\n",
              "      <th>momheight</th>\n",
              "      <th>dadheight</th>\n",
              "    </tr>\n",
              "  </thead>\n",
              "  <tbody>\n",
              "    <tr>\n",
              "      <th>0</th>\n",
              "      <td>66.0</td>\n",
              "      <td>66.0</td>\n",
              "      <td>71.0</td>\n",
              "    </tr>\n",
              "    <tr>\n",
              "      <th>1</th>\n",
              "      <td>64.0</td>\n",
              "      <td>62.0</td>\n",
              "      <td>68.0</td>\n",
              "    </tr>\n",
              "    <tr>\n",
              "      <th>2</th>\n",
              "      <td>64.0</td>\n",
              "      <td>65.0</td>\n",
              "      <td>70.0</td>\n",
              "    </tr>\n",
              "    <tr>\n",
              "      <th>3</th>\n",
              "      <td>69.0</td>\n",
              "      <td>66.0</td>\n",
              "      <td>76.0</td>\n",
              "    </tr>\n",
              "    <tr>\n",
              "      <th>4</th>\n",
              "      <td>66.0</td>\n",
              "      <td>63.0</td>\n",
              "      <td>70.0</td>\n",
              "    </tr>\n",
              "  </tbody>\n",
              "</table>\n",
              "</div>"
            ],
            "text/plain": [
              "   Height  momheight  dadheight\n",
              "0    66.0       66.0       71.0\n",
              "1    64.0       62.0       68.0\n",
              "2    64.0       65.0       70.0\n",
              "3    69.0       66.0       76.0\n",
              "4    66.0       63.0       70.0"
            ]
          },
          "metadata": {
            "tags": []
          },
          "execution_count": 107
        }
      ]
    },
    {
      "cell_type": "markdown",
      "metadata": {
        "id": "5j_Ht_SwW4yL"
      },
      "source": [
        "##Using Inbuilt functions"
      ]
    },
    {
      "cell_type": "code",
      "metadata": {
        "id": "j8kqzLGTZ6ta",
        "outputId": "9e3d475b-1e78-4e25-da5d-6a9f4c12b80e",
        "colab": {
          "base_uri": "https://localhost:8080/",
          "height": 72
        }
      },
      "source": [
        "x = dataset2.iloc[:, 1:].values\n",
        "y = dataset2.iloc[:, :1].values\n",
        "\n",
        "regressor = LinearRegression(fit_intercept=True)\n",
        "regressor.fit(x, y)\n",
        "#print(regressor.predict(X))\n",
        "print(\"w0 = \",regressor.intercept_)\n",
        "print(\"w1 = \",regressor.coef_[0][0])\n",
        "print(\"w2 = \",regressor.coef_[0][1])"
      ],
      "execution_count": 14,
      "outputs": [
        {
          "output_type": "stream",
          "text": [
            "w0 =  [18.54725207]\n",
            "w1 =  0.30350557940727957\n",
            "w2 =  0.3878555878957484\n"
          ],
          "name": "stdout"
        }
      ]
    },
    {
      "cell_type": "markdown",
      "metadata": {
        "id": "JJWSBOoyoTEG"
      },
      "source": [
        "Using Least Square Error"
      ]
    },
    {
      "cell_type": "code",
      "metadata": {
        "id": "QZaYPVZgv1fD",
        "outputId": "c96fbf9a-58c3-4ef9-994b-1ddaee8f5e55",
        "colab": {
          "base_uri": "https://localhost:8080/",
          "height": 72
        }
      },
      "source": [
        "np.dot(np.linalg.inv(np.dot(X.T,X)),np.dot(X.T,y))\n",
        "  \n",
        "x = np.array(dataset2.iloc[:,[1,2]].values.reshape(-1,2))\n",
        "y = np.array(dataset2.iloc[:,0].values.reshape(-1,1))\n",
        "\n",
        "X = np.concatenate((x,np.ones((x.shape[0],1))),axis=1)\n",
        "print(np.dot(np.linalg.inv(np.dot(X.T,X)),np.dot(X.T,y)))\n"
      ],
      "execution_count": 114,
      "outputs": [
        {
          "output_type": "stream",
          "text": [
            "[[ 0.30350558]\n",
            " [ 0.38785559]\n",
            " [18.54725207]]\n"
          ],
          "name": "stdout"
        }
      ]
    },
    {
      "cell_type": "code",
      "metadata": {
        "id": "s234eaB1opo3",
        "outputId": "3a5bc398-4eac-43cf-b19b-2b5e7e02e9d6",
        "colab": {
          "base_uri": "https://localhost:8080/",
          "height": 297
        }
      },
      "source": [
        "x = np.array(dataset2.iloc[:,[1,2]].values.reshape(-1,2))\n",
        "y = np.array(dataset2.iloc[:,0].values.reshape(-1,1))\n",
        "epoch=5000\n",
        "def Gradient_descent(n,w,x,y):\n",
        "  alpha=0.0002\n",
        "  weights=[]\n",
        "  error=[]\n",
        "  for j in range(epoch):     \n",
        "    dw0=0\n",
        "    dw1=0\n",
        "    dw2=0\n",
        "    for i in range(len(x)):\n",
        "      dw0 += -(y[i] - w[0] - w[1]*x[i][0] - w[2]*x[i][1])\n",
        "      dw1 += -(y[i] - w[0] - w[1]*x[i][0] - w[2]*x[i][1])*x[i][0]\n",
        "      dw2 += -(y[i] - w[0] - w[1]*x[i][0] - w[2]*x[i][1])*x[i][1]\n",
        "    w[0] = w[0] - alpha*dw0/n\n",
        "    w[1] = w[1] - alpha*dw1/n\n",
        "    w[2] = w[2] - alpha*dw2/n\n",
        "    weights.append(w)\n",
        "    res=0\n",
        "    for i in range(len(y)):\n",
        "      res += (y[i] - w[0] - w[1]*x[i][0] - w[2]*x[i][1])**2/(2*n)\n",
        "    error.append([res,w[0],w[1],w[2]])\n",
        "\n",
        "  return weights,error\n",
        "n = len(x)\n",
        "w=np.array([18.5,0.0,0.0])\n",
        "w.reshape(-1,3)\n",
        "weights,error=Gradient_descent(n,w,x,y)\n",
        "print(weights[-1])\n",
        "err_y=[]\n",
        "for res in error:\n",
        "  err_y.append(res[0])\n",
        "plt.scatter([range(epoch)],err_y,label=\"Error\")\n",
        "plt.xlabel(\"Iteration\")\n",
        "plt.ylabel(\"Error in prediction\")\n",
        "plt.legend()\n",
        "plt.show()\n",
        "\n"
      ],
      "execution_count": 109,
      "outputs": [
        {
          "output_type": "stream",
          "text": [
            "[18.50519781  0.30400098  0.38800647]\n"
          ],
          "name": "stdout"
        },
        {
          "output_type": "display_data",
          "data": {
            "image/png": "[encoded data removed]",
            "text/plain": [
              "<Figure size 432x288 with 1 Axes>"
            ]
          },
          "metadata": {
            "tags": [],
            "needs_background": "light"
          }
        }
      ]
    }
  ]
}